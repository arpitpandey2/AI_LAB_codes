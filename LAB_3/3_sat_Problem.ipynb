{
  "nbformat": 4,
  "nbformat_minor": 0,
  "metadata": {
    "colab": {
      "provenance": []
    },
    "kernelspec": {
      "name": "python3",
      "display_name": "Python 3"
    },
    "language_info": {
      "name": "python"
    }
  },
  "cells": [
    {
      "cell_type": "code",
      "source": [
        "from string import ascii_lowercase\n",
        "import random\n",
        "from itertools import combinations\n",
        "import numpy as np"
      ],
      "metadata": {
        "id": "7TYLoephdYKm"
      },
      "execution_count": 132,
      "outputs": []
    },
    {
      "cell_type": "code",
      "source": [
        "def creatproblem(n,k,m):\n",
        "        positive_var = list(ascii_lowercase)[:n]\n",
        "        negative_var = [var.upper() for var in positive_var]\n",
        "        variables = positive_var + negative_var\n",
        "        problem = []\n",
        "        threshold = 10\n",
        "        i = 0\n",
        "        comb = list(combinations(variables,k))\n",
        "\n",
        "        while i<threshold:\n",
        "            c = random.sample(comb,m)\n",
        "            if c not in problem:\n",
        "                problem.append(c)\n",
        "                i += 1\n",
        "\n",
        "        problems_new = []\n",
        "        for c in problem:\n",
        "            temp = []\n",
        "            temp = [list(sub) for sub in c]\n",
        "            problems_new.append(temp)\n",
        "        return  variables,problems_new"
      ],
      "metadata": {
        "id": "qtVtf6KLdaXY"
      },
      "execution_count": 133,
      "outputs": []
    },
    {
      "cell_type": "code",
      "source": [
        "def random_assign(variables,n):\n",
        "    litral = list(np.random.choice(2,n))\n",
        "    negation = [abs(i-1) for i in litral]\n",
        "    assign = litral + negation\n",
        "    return dict(zip(variables,assign))"
      ],
      "metadata": {
        "id": "aB--cYwUdeTs"
      },
      "execution_count": 134,
      "outputs": []
    },
    {
      "cell_type": "code",
      "source": [
        "def heruistic(problem,assign):\n",
        "    count = 0\n",
        "    for sub in problem:\n",
        "        encode = [assign[val] for val in sub]\n",
        "        count += any(encode)\n",
        "    return count"
      ],
      "metadata": {
        "id": "wttFsUSrdhZE"
      },
      "execution_count": 135,
      "outputs": []
    },
    {
      "cell_type": "code",
      "source": [
        "def next_node(current):\n",
        "    key = list(current.keys())\n",
        "    key.sort()\n",
        "    key = key[0:len(key)//2]\n",
        "    successors = []\n",
        "    for k in key:\n",
        "        temp = current.copy()\n",
        "        temp[k] = abs(temp[k]-1)\n",
        "        temp[chr(ord(k)+32)] = abs(temp[chr(ord(k)+32)]-1)\n",
        "        successors.append(temp)\n",
        "\n",
        "    return successors\n",
        "print(next_node({'a': 0, 'b': 0, 'c': 0, 'A': 1, 'B': 1, 'C': 1}))"
      ],
      "metadata": {
        "colab": {
          "base_uri": "https://localhost:8080/"
        },
        "id": "PUs17Eujdkgv",
        "outputId": "aa11bb8d-20e8-46a7-9da3-5a1ca2620590"
      },
      "execution_count": 136,
      "outputs": [
        {
          "output_type": "stream",
          "name": "stdout",
          "text": [
            "[{'a': 1, 'b': 0, 'c': 0, 'A': 0, 'B': 1, 'C': 1}, {'a': 0, 'b': 1, 'c': 0, 'A': 1, 'B': 0, 'C': 1}, {'a': 0, 'b': 0, 'c': 1, 'A': 1, 'B': 1, 'C': 0}]\n"
          ]
        }
      ]
    },
    {
      "cell_type": "code",
      "source": [
        "def select_node(succs,problem):\n",
        "    heruistic_val = []\n",
        "    for i in succs:\n",
        "        heruistic_val.append(heruistic(problem,i))\n",
        "    index = heruistic_val.index(max(heruistic_val))\n",
        "    return succs[index]"
      ],
      "metadata": {
        "id": "VKtMQ-jqdn2u"
      },
      "execution_count": 137,
      "outputs": []
    },
    {
      "cell_type": "code",
      "source": [
        "def check_goal_state(state,problem):\n",
        "    count = 0\n",
        "    for sub in problem:\n",
        "        encode = [state[val] for val in sub]\n",
        "        count += any(encode)\n",
        "    return len(problem) == count"
      ],
      "metadata": {
        "id": "xr6K1PGsdzQG"
      },
      "execution_count": 138,
      "outputs": []
    },
    {
      "cell_type": "code",
      "source": [
        "def hill_climbing(current_state,problem,step):\n",
        "    if step == 10000:\n",
        "        print('halted at depth',step)\n",
        "        return\n",
        "    if check_goal_state(current_state,problem)==True:\n",
        "        print(current_state,step)\n",
        "        return\n",
        "    else:\n",
        "        step += 1\n",
        "        successor = next_node(current_state)\n",
        "        new_node = select_node(successor,problem)\n",
        "        hill_climbing(new_node,problem,step)"
      ],
      "metadata": {
        "id": "ttvBJs3Id4Re"
      },
      "execution_count": 139,
      "outputs": []
    },
    {
      "cell_type": "code",
      "source": [
        "n = 2\n",
        "k = 3\n",
        "m = 2\n",
        "var,prob = creatproblem(n,k,m)\n",
        "print(var)\n",
        "for i in prob:\n",
        "    print(i)"
      ],
      "metadata": {
        "colab": {
          "base_uri": "https://localhost:8080/"
        },
        "id": "Ql_EY3-Ld7Ti",
        "outputId": "fcfcf8c3-1c28-48bd-fa11-4da0b9a7c6f5"
      },
      "execution_count": 140,
      "outputs": [
        {
          "output_type": "stream",
          "name": "stdout",
          "text": [
            "['a', 'b', 'A', 'B']\n",
            "[['a', 'A', 'B'], ['a', 'b', 'A']]\n",
            "[['a', 'b', 'B'], ['a', 'b', 'A']]\n",
            "[['a', 'A', 'B'], ['a', 'b', 'B']]\n",
            "[['a', 'b', 'B'], ['a', 'A', 'B']]\n",
            "[['a', 'b', 'A'], ['a', 'b', 'B']]\n",
            "[['b', 'A', 'B'], ['a', 'b', 'A']]\n",
            "[['a', 'b', 'A'], ['a', 'A', 'B']]\n",
            "[['b', 'A', 'B'], ['a', 'b', 'B']]\n",
            "[['a', 'A', 'B'], ['b', 'A', 'B']]\n",
            "[['b', 'A', 'B'], ['a', 'A', 'B']]\n"
          ]
        }
      ]
    },
    {
      "cell_type": "code",
      "source": [
        "start_state = {k: int(v) for k, v in start_state.items()}\n",
        "print(start_state,prob[0])\n",
        "# start_state = {'a': 0, 'b': 0, 'c': 0, 'd': 0, 'e': 0, 'f':0,'A': 1, 'B': 1, 'C': 1, 'D': 1, 'E': 1, 'F':1}\n",
        "hill_climbing(start_state,prob[0],0)"
      ],
      "metadata": {
        "colab": {
          "base_uri": "https://localhost:8080/"
        },
        "id": "vNjEs-rWeBGo",
        "outputId": "4f2c3973-9139-4985-e9cf-fbfbccbc4031"
      },
      "execution_count": 141,
      "outputs": [
        {
          "output_type": "stream",
          "name": "stdout",
          "text": [
            "{'a': 0, 'b': 1, 'c': 0, 'd': 0, 'e': 0, 'A': 1, 'B': 0, 'C': 1, 'D': 1, 'E': 1} [['a', 'A', 'B'], ['a', 'b', 'A']]\n",
            "{'a': 0, 'b': 1, 'c': 0, 'd': 0, 'e': 0, 'A': 1, 'B': 0, 'C': 1, 'D': 1, 'E': 1} 0\n"
          ]
        }
      ]
    },
    {
      "cell_type": "code",
      "source": [
        "print(check_goal_state({'a': 0, 'b': 1, 'c': 0, 'd': 1, 'A': 1, 'B': 0, 'C': 1, 'D': 0},prob[7]))"
      ],
      "metadata": {
        "colab": {
          "base_uri": "https://localhost:8080/"
        },
        "id": "xXfp8t-Lj9Lh",
        "outputId": "f353242a-e141-4258-afcd-558cf72cd580"
      },
      "execution_count": 142,
      "outputs": [
        {
          "output_type": "stream",
          "name": "stdout",
          "text": [
            "True\n"
          ]
        }
      ]
    },
    {
      "cell_type": "markdown",
      "source": [
        "Beam Search"
      ],
      "metadata": {
        "id": "AuP9VTcAl6dP"
      }
    },
    {
      "cell_type": "code",
      "source": [
        "def heruistic(problem,assign):\n",
        "    count = 0\n",
        "    for sub in problem:\n",
        "        encode = [assign[val] for val in sub]\n",
        "        count += any(encode)\n",
        "    return count"
      ],
      "metadata": {
        "id": "kxuUE7eql3is"
      },
      "execution_count": 143,
      "outputs": []
    },
    {
      "cell_type": "code",
      "source": [
        "def select_node_beam(succs,problem,beamwidth):\n",
        "    heruistic_val = []\n",
        "    beam_nodes = []\n",
        "    for i in succs:\n",
        "        heruistic_val.append(heruistic(problem,i))\n",
        "    for i in range(beamwidth):\n",
        "        index = heruistic_val.index(max(heruistic_val))\n",
        "        beam_nodes.append(succs[index])\n",
        "        succs.remove(succs[index])\n",
        "\n",
        "    return beam_nodes"
      ],
      "metadata": {
        "id": "4SHl5RB3l5sO"
      },
      "execution_count": 144,
      "outputs": []
    },
    {
      "cell_type": "code",
      "source": [
        "def check_goal_state(state,problem,beamwidth):\n",
        "    count = 0\n",
        "    for sub in problem:\n",
        "        encode = [state[val] for val in sub]\n",
        "        count += any(encode)\n",
        "    return len(problem) == count"
      ],
      "metadata": {
        "id": "dGEnZyg-mEop"
      },
      "execution_count": 145,
      "outputs": []
    },
    {
      "cell_type": "code",
      "source": [
        "def next_node_beam(succs):\n",
        "    nextnode= []\n",
        "    for current in succs:\n",
        "        key = list(current.keys())\n",
        "        key.sort()\n",
        "        key = key[0:len(key)//2]\n",
        "        successors = []\n",
        "        for k in key:\n",
        "            temp = current.copy()\n",
        "            temp[k] = abs(temp[k]-1)\n",
        "            temp[chr(ord(k)+32)] = abs(temp[chr(ord(k)+32)]-1)\n",
        "            successors.append(temp)\n",
        "            nextnode.append(temp)\n",
        "\n",
        "    return nextnode"
      ],
      "metadata": {
        "id": "T5moX00kmHhI"
      },
      "execution_count": 146,
      "outputs": []
    },
    {
      "cell_type": "code",
      "source": [
        "def beam_search(start,problem,step,beamwidth):\n",
        "    if step == 10000:\n",
        "        print('halted at depth',step)\n",
        "        return\n",
        "    for current_state in start:\n",
        "        print(current_state)\n",
        "        if check_goal_state(current_state,problem,beamwidth)==True:\n",
        "            print(current_state,step)\n",
        "            return\n",
        "    step +=1\n",
        "    successor = next_node_beam(start,problem,beamwidth)\n",
        "    new_node = select_node_beam(successor,prob[0],beamwidth)\n",
        "    beam_search(start,problem,step,beamwidth)"
      ],
      "metadata": {
        "id": "PKHYLDDtmKdX"
      },
      "execution_count": 147,
      "outputs": []
    },
    {
      "cell_type": "code",
      "source": [
        "n = 5\n",
        "k = 3\n",
        "m = 5\n",
        "var,probl = creatproblem(n,k,m)\n",
        "print(var)\n",
        "for i in probl:\n",
        "    print(i)"
      ],
      "metadata": {
        "colab": {
          "base_uri": "https://localhost:8080/"
        },
        "id": "OgOUAeMgmM3Z",
        "outputId": "dafc4980-83e2-4661-b0f8-5ea5ce1800a1"
      },
      "execution_count": 148,
      "outputs": [
        {
          "output_type": "stream",
          "name": "stdout",
          "text": [
            "['a', 'b', 'c', 'd', 'e', 'A', 'B', 'C', 'D', 'E']\n",
            "[['e', 'A', 'E'], ['c', 'e', 'C'], ['b', 'e', 'A'], ['a', 'e', 'A'], ['b', 'A', 'C']]\n",
            "[['c', 'D', 'E'], ['A', 'D', 'E'], ['b', 'c', 'C'], ['a', 'b', 'd'], ['a', 'A', 'E']]\n",
            "[['d', 'A', 'E'], ['b', 'D', 'E'], ['d', 'A', 'D'], ['a', 'e', 'A'], ['c', 'e', 'C']]\n",
            "[['a', 'C', 'D'], ['d', 'C', 'D'], ['B', 'D', 'E'], ['a', 'c', 'C'], ['d', 'e', 'D']]\n",
            "[['e', 'A', 'B'], ['a', 'b', 'A'], ['b', 'e', 'E'], ['a', 'B', 'E'], ['a', 'A', 'C']]\n",
            "[['B', 'D', 'E'], ['c', 'B', 'D'], ['d', 'e', 'B'], ['d', 'e', 'A'], ['b', 'c', 'E']]\n",
            "[['b', 'd', 'A'], ['e', 'A', 'E'], ['b', 'B', 'E'], ['c', 'A', 'C'], ['d', 'A', 'E']]\n",
            "[['e', 'B', 'D'], ['d', 'e', 'B'], ['c', 'A', 'B'], ['a', 'e', 'A'], ['a', 'c', 'e']]\n",
            "[['e', 'A', 'C'], ['a', 'd', 'e'], ['d', 'C', 'D'], ['a', 'd', 'B'], ['a', 'd', 'D']]\n",
            "[['b', 'd', 'D'], ['b', 'e', 'C'], ['d', 'A', 'D'], ['b', 'C', 'D'], ['d', 'A', 'E']]\n"
          ]
        }
      ]
    },
    {
      "cell_type": "code",
      "source": [
        "\n",
        "beam_search([start_state,start_state],prob[2],0,1)"
      ],
      "metadata": {
        "colab": {
          "base_uri": "https://localhost:8080/"
        },
        "id": "JzP6eAMqmRoR",
        "outputId": "6c7373b1-170e-4744-9bec-e048dd3576da"
      },
      "execution_count": 149,
      "outputs": [
        {
          "output_type": "stream",
          "name": "stdout",
          "text": [
            "{'a': 0, 'b': 1, 'c': 0, 'd': 0, 'e': 0, 'A': 1, 'B': 0, 'C': 1, 'D': 1, 'E': 1}\n",
            "{'a': 0, 'b': 1, 'c': 0, 'd': 0, 'e': 0, 'A': 1, 'B': 0, 'C': 1, 'D': 1, 'E': 1} 0\n"
          ]
        }
      ]
    },
    {
      "cell_type": "markdown",
      "source": [
        "VAriable neighbourhood descent with 3 descent"
      ],
      "metadata": {
        "id": "0VXEEmSKnsGV"
      }
    },
    {
      "cell_type": "code",
      "source": [
        "def heruistic(problem,assign):\n",
        "    count = 0\n",
        "    for sub in problem:\n",
        "        encode = [assign[val] for val in sub]\n",
        "        count += any(encode)\n",
        "    return count"
      ],
      "metadata": {
        "id": "I3uOC3Mfn7XZ"
      },
      "execution_count": 150,
      "outputs": []
    },
    {
      "cell_type": "code",
      "source": [
        "def check_goal_state(state,problem):\n",
        "    count = 0\n",
        "    for sub in problem:\n",
        "        encode = [state[val] for val in sub]\n",
        "        count += any(encode)\n",
        "    return len(problem) == count"
      ],
      "metadata": {
        "id": "LJRxCGmKmSbX"
      },
      "execution_count": 151,
      "outputs": []
    },
    {
      "cell_type": "code",
      "source": [
        "def select_node(succs,problem):\n",
        "    heruistic_val = []\n",
        "    for i in succs:\n",
        "        heruistic_val.append(heruistic(problem,i))\n",
        "    index = heruistic_val.index(max(heruistic_val))\n",
        "    return succs[index]"
      ],
      "metadata": {
        "id": "BcwKVCGuoADZ"
      },
      "execution_count": 152,
      "outputs": []
    },
    {
      "cell_type": "code",
      "source": [
        "def nghd1(current):\n",
        "    key = list(current.keys())\n",
        "    key.sort()\n",
        "    key = key[0:len(key)//2]\n",
        "    successors = []\n",
        "    for k in key:\n",
        "        temp = current.copy()\n",
        "        temp[k] = abs(temp[k]-1)\n",
        "        temp[chr(ord(k)+32)] = abs(temp[chr(ord(k)+32)]-1)\n",
        "        successors.append(temp)\n",
        "\n",
        "\n",
        "    return successors"
      ],
      "metadata": {
        "id": "AjwivrvxoDqZ"
      },
      "execution_count": 153,
      "outputs": []
    },
    {
      "cell_type": "code",
      "source": [
        "\n",
        "print(nghd1({'a': 1, 'b': 1, 'c': 1, 'd': 1, 'e': 1, 'A': 0, 'B': 0, 'C': 0, 'D': 0, 'E': 0}))"
      ],
      "metadata": {
        "colab": {
          "base_uri": "https://localhost:8080/"
        },
        "id": "sJryBi-QoH_q",
        "outputId": "860a410a-4f2e-431c-a466-8c656d1a2028"
      },
      "execution_count": 154,
      "outputs": [
        {
          "output_type": "stream",
          "name": "stdout",
          "text": [
            "[{'a': 0, 'b': 1, 'c': 1, 'd': 1, 'e': 1, 'A': 1, 'B': 0, 'C': 0, 'D': 0, 'E': 0}, {'a': 1, 'b': 0, 'c': 1, 'd': 1, 'e': 1, 'A': 0, 'B': 1, 'C': 0, 'D': 0, 'E': 0}, {'a': 1, 'b': 1, 'c': 0, 'd': 1, 'e': 1, 'A': 0, 'B': 0, 'C': 1, 'D': 0, 'E': 0}, {'a': 1, 'b': 1, 'c': 1, 'd': 0, 'e': 1, 'A': 0, 'B': 0, 'C': 0, 'D': 1, 'E': 0}, {'a': 1, 'b': 1, 'c': 1, 'd': 1, 'e': 0, 'A': 0, 'B': 0, 'C': 0, 'D': 0, 'E': 1}]\n"
          ]
        }
      ]
    },
    {
      "cell_type": "code",
      "source": [
        "def nghd2(current):\n",
        "    key = list(current.keys())\n",
        "    key.sort()\n",
        "    key = key[0:len(key)//2]\n",
        "    successors = []\n",
        "    for j in range(0,len(key)-1):\n",
        "        for i in range(j,len(key)-1):\n",
        "\n",
        "            temp = current.copy()\n",
        "            temp[key[i]] = abs(temp[key[i]]-1)\n",
        "            temp[key[i+1]] = abs(temp[key[i+1]]-1)\n",
        "            temp[chr(ord(key[i])+32)] = abs(temp[chr(ord(key[i])+32)]-1)\n",
        "            temp[chr(ord(key[i+1])+32)] = abs(temp[chr(ord(key[i+1])+32)]-1)\n",
        "            successors.append(temp)\n",
        "\n",
        "\n",
        "    return successors\n",
        "print(nghd2({'a': 1, 'b': 1, 'c': 1, 'd': 1, 'e': 1, 'A': 0, 'B': 0, 'C': 0, 'D': 0, 'E': 0}))"
      ],
      "metadata": {
        "colab": {
          "base_uri": "https://localhost:8080/"
        },
        "id": "PBSffqbeoRsr",
        "outputId": "76e0ede7-58a6-45a2-b259-eea5649bf2f1"
      },
      "execution_count": 155,
      "outputs": [
        {
          "output_type": "stream",
          "name": "stdout",
          "text": [
            "[{'a': 0, 'b': 0, 'c': 1, 'd': 1, 'e': 1, 'A': 1, 'B': 1, 'C': 0, 'D': 0, 'E': 0}, {'a': 1, 'b': 0, 'c': 0, 'd': 1, 'e': 1, 'A': 0, 'B': 1, 'C': 1, 'D': 0, 'E': 0}, {'a': 1, 'b': 1, 'c': 0, 'd': 0, 'e': 1, 'A': 0, 'B': 0, 'C': 1, 'D': 1, 'E': 0}, {'a': 1, 'b': 1, 'c': 1, 'd': 0, 'e': 0, 'A': 0, 'B': 0, 'C': 0, 'D': 1, 'E': 1}, {'a': 1, 'b': 0, 'c': 0, 'd': 1, 'e': 1, 'A': 0, 'B': 1, 'C': 1, 'D': 0, 'E': 0}, {'a': 1, 'b': 1, 'c': 0, 'd': 0, 'e': 1, 'A': 0, 'B': 0, 'C': 1, 'D': 1, 'E': 0}, {'a': 1, 'b': 1, 'c': 1, 'd': 0, 'e': 0, 'A': 0, 'B': 0, 'C': 0, 'D': 1, 'E': 1}, {'a': 1, 'b': 1, 'c': 0, 'd': 0, 'e': 1, 'A': 0, 'B': 0, 'C': 1, 'D': 1, 'E': 0}, {'a': 1, 'b': 1, 'c': 1, 'd': 0, 'e': 0, 'A': 0, 'B': 0, 'C': 0, 'D': 1, 'E': 1}, {'a': 1, 'b': 1, 'c': 1, 'd': 0, 'e': 0, 'A': 0, 'B': 0, 'C': 0, 'D': 1, 'E': 1}]\n"
          ]
        }
      ]
    },
    {
      "cell_type": "code",
      "source": [
        "def nghd3(current):\n",
        "    key = list(current.keys())\n",
        "    key.sort()\n",
        "    key = key[0:len(key)//2]\n",
        "    successors = []\n",
        "    for j in range(0,len(key)-2):\n",
        "        for k in range(j,len(key)-2):\n",
        "            for i in range(k,len(key)-2):\n",
        "\n",
        "                temp = current.copy()\n",
        "                temp[key[i]] = abs(temp[key[i]]-1)\n",
        "                temp[key[i+1]] = abs(temp[key[i+1]]-1)\n",
        "                temp[chr(ord(key[i])+32)] = abs(temp[chr(ord(key[i])+32)]-1)\n",
        "                temp[chr(ord(key[i+1])+32)] = abs(temp[chr(ord(key[i+1])+32)]-1)\n",
        "                successors.append(temp)\n",
        "\n",
        "\n",
        "    return successors\n",
        "print(nghd3({'a': 1, 'b': 1, 'c': 1, 'd': 1, 'e': 1, 'A': 0, 'B': 0, 'C': 0, 'D': 0, 'E': 0}))"
      ],
      "metadata": {
        "colab": {
          "base_uri": "https://localhost:8080/"
        },
        "id": "eEeKGJxYoWU3",
        "outputId": "bbbd0619-2158-471c-b235-86e51d272b7b"
      },
      "execution_count": 156,
      "outputs": [
        {
          "output_type": "stream",
          "name": "stdout",
          "text": [
            "[{'a': 0, 'b': 0, 'c': 1, 'd': 1, 'e': 1, 'A': 1, 'B': 1, 'C': 0, 'D': 0, 'E': 0}, {'a': 1, 'b': 0, 'c': 0, 'd': 1, 'e': 1, 'A': 0, 'B': 1, 'C': 1, 'D': 0, 'E': 0}, {'a': 1, 'b': 1, 'c': 0, 'd': 0, 'e': 1, 'A': 0, 'B': 0, 'C': 1, 'D': 1, 'E': 0}, {'a': 1, 'b': 0, 'c': 0, 'd': 1, 'e': 1, 'A': 0, 'B': 1, 'C': 1, 'D': 0, 'E': 0}, {'a': 1, 'b': 1, 'c': 0, 'd': 0, 'e': 1, 'A': 0, 'B': 0, 'C': 1, 'D': 1, 'E': 0}, {'a': 1, 'b': 1, 'c': 0, 'd': 0, 'e': 1, 'A': 0, 'B': 0, 'C': 1, 'D': 1, 'E': 0}, {'a': 1, 'b': 0, 'c': 0, 'd': 1, 'e': 1, 'A': 0, 'B': 1, 'C': 1, 'D': 0, 'E': 0}, {'a': 1, 'b': 1, 'c': 0, 'd': 0, 'e': 1, 'A': 0, 'B': 0, 'C': 1, 'D': 1, 'E': 0}, {'a': 1, 'b': 1, 'c': 0, 'd': 0, 'e': 1, 'A': 0, 'B': 0, 'C': 1, 'D': 1, 'E': 0}, {'a': 1, 'b': 1, 'c': 0, 'd': 0, 'e': 1, 'A': 0, 'B': 0, 'C': 1, 'D': 1, 'E': 0}]\n"
          ]
        }
      ]
    },
    {
      "cell_type": "code",
      "source": [
        "def Variable_Neighborhood1(current_state,problem,step):\n",
        "    if step == 10000:\n",
        "        print('halted at depth',step)\n",
        "        return\n",
        "    if check_goal_state(current_state,problem)==True:\n",
        "        return current_state\n",
        "\n",
        "    else:\n",
        "        step += 1\n",
        "        successor = next_node(current_state)\n",
        "        new_node = nghd1(successor,problem)\n",
        "        Variable_Neighborhood(new_node,problem,step)"
      ],
      "metadata": {
        "id": "qjEuneP1oZ1S"
      },
      "execution_count": 157,
      "outputs": []
    },
    {
      "cell_type": "code",
      "source": [
        "def Variable_Neighborhood2(current_state,problem,step):\n",
        "    if step == 10000:\n",
        "        print('halted at depth',step)\n",
        "        return\n",
        "    if check_goal_state(current_state,problem)==True:\n",
        "        return current_state\n",
        "\n",
        "    else:\n",
        "        step += 1\n",
        "        successor = next_node(current_state)\n",
        "        new_node = nghd2(successor,problem)\n",
        "        Variable_Neighborhood(new_node,problem,step)"
      ],
      "metadata": {
        "id": "HvfRbRdLodIt"
      },
      "execution_count": 158,
      "outputs": []
    },
    {
      "cell_type": "code",
      "source": [
        "def Variable_Neighborhood3(current_state,problem,step):\n",
        "    if step == 10000:\n",
        "        print('halted at depth',step)\n",
        "        return\n",
        "    if check_goal_state(current_state,problem)==True:\n",
        "        print(current_state,step)\n",
        "        return\n",
        "    else:\n",
        "        step += 1\n",
        "        successor = next_node(current_state)\n",
        "        new_node = nghd3(successor,problem)\n",
        "        Variable_Neighborhood(new_node,problem,step)"
      ],
      "metadata": {
        "id": "OHMyevlkodln"
      },
      "execution_count": 159,
      "outputs": []
    },
    {
      "cell_type": "code",
      "source": [
        "n = 5\n",
        "k = 3\n",
        "m = 5\n",
        "var,probl = creatproblem(n,k,m)\n",
        "print(var)\n",
        "for i in probl:\n",
        "    print(i)"
      ],
      "metadata": {
        "colab": {
          "base_uri": "https://localhost:8080/"
        },
        "id": "6uO3v419ojEM",
        "outputId": "71b2c32d-a9a3-42ba-a8a4-724f759ca038"
      },
      "execution_count": 160,
      "outputs": [
        {
          "output_type": "stream",
          "name": "stdout",
          "text": [
            "['a', 'b', 'c', 'd', 'e', 'A', 'B', 'C', 'D', 'E']\n",
            "[['A', 'D', 'E'], ['b', 'C', 'E'], ['c', 'e', 'E'], ['b', 'e', 'D'], ['b', 'c', 'D']]\n",
            "[['c', 'e', 'B'], ['c', 'd', 'A'], ['A', 'B', 'C'], ['c', 'd', 'D'], ['c', 'B', 'E']]\n",
            "[['c', 'C', 'E'], ['a', 'b', 'c'], ['b', 'd', 'e'], ['C', 'D', 'E'], ['e', 'A', 'D']]\n",
            "[['a', 'd', 'D'], ['d', 'e', 'C'], ['b', 'B', 'D'], ['c', 'C', 'E'], ['b', 'c', 'B']]\n",
            "[['b', 'd', 'D'], ['b', 'e', 'E'], ['c', 'e', 'B'], ['a', 'd', 'D'], ['b', 'C', 'D']]\n",
            "[['a', 'b', 'D'], ['b', 'B', 'E'], ['c', 'd', 'C'], ['c', 'A', 'D'], ['e', 'C', 'E']]\n",
            "[['b', 'C', 'D'], ['a', 'c', 'e'], ['a', 'd', 'E'], ['c', 'A', 'D'], ['c', 'C', 'E']]\n",
            "[['b', 'A', 'E'], ['b', 'A', 'C'], ['a', 'b', 'e'], ['c', 'd', 'B'], ['d', 'A', 'B']]\n",
            "[['b', 'c', 'C'], ['c', 'C', 'E'], ['e', 'C', 'D'], ['a', 'e', 'A'], ['b', 'A', 'D']]\n",
            "[['b', 'D', 'E'], ['c', 'e', 'A'], ['d', 'D', 'E'], ['c', 'd', 'e'], ['d', 'e', 'C']]\n"
          ]
        }
      ]
    },
    {
      "cell_type": "code",
      "source": [
        "start_state = random_assign(var,n)\n",
        "print([start_state,start_state])"
      ],
      "metadata": {
        "colab": {
          "base_uri": "https://localhost:8080/"
        },
        "id": "ovSlyXzOoldj",
        "outputId": "a46f1ffe-82d3-43ef-b0ec-edc5b7143a62"
      },
      "execution_count": 161,
      "outputs": [
        {
          "output_type": "stream",
          "name": "stdout",
          "text": [
            "[{'a': np.int64(1), 'b': np.int64(1), 'c': np.int64(0), 'd': np.int64(0), 'e': np.int64(0), 'A': np.int64(0), 'B': np.int64(0), 'C': np.int64(1), 'D': np.int64(1), 'E': np.int64(1)}, {'a': np.int64(1), 'b': np.int64(1), 'c': np.int64(0), 'd': np.int64(0), 'e': np.int64(0), 'A': np.int64(0), 'B': np.int64(0), 'C': np.int64(1), 'D': np.int64(1), 'E': np.int64(1)}]\n"
          ]
        }
      ]
    },
    {
      "cell_type": "code",
      "source": [
        "var1 = start_state\n",
        "var2 = Variable_Neighborhood1(var1,prob[0],0)\n",
        "var3 = Variable_Neighborhood2(var2,prob[0],0)\n",
        "Variable_Neighborhood3(var3,prob[0],0)"
      ],
      "metadata": {
        "colab": {
          "base_uri": "https://localhost:8080/"
        },
        "id": "014a-gQnooBy",
        "outputId": "b335db4a-2b81-4160-c495-13029da087db"
      },
      "execution_count": 163,
      "outputs": [
        {
          "output_type": "stream",
          "name": "stdout",
          "text": [
            "{'a': np.int64(1), 'b': np.int64(1), 'c': np.int64(0), 'd': np.int64(0), 'e': np.int64(0), 'A': np.int64(0), 'B': np.int64(0), 'C': np.int64(1), 'D': np.int64(1), 'E': np.int64(1)} 0\n"
          ]
        }
      ]
    }
  ]
}